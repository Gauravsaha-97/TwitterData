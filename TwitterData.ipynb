{
  "nbformat": 4,
  "nbformat_minor": 0,
  "metadata": {
    "colab": {
      "name": "TwitterData.ipynb",
      "provenance": [],
      "authorship_tag": "ABX9TyPzJYAsAM25Jai27CeVLb77",
      "include_colab_link": true
    },
    "kernelspec": {
      "name": "python3",
      "display_name": "Python 3"
    }
  },
  "cells": [
    {
      "cell_type": "markdown",
      "metadata": {
        "id": "view-in-github",
        "colab_type": "text"
      },
      "source": [
        "<a href=\"https://colab.research.google.com/github/Gauravsaha-97/TwitterData/blob/master/TwitterData.ipynb\" target=\"_parent\"><img src=\"https://colab.research.google.com/assets/colab-badge.svg\" alt=\"Open In Colab\"/></a>"
      ]
    },
    {
      "cell_type": "code",
      "metadata": {
        "id": "w366qyVOqccd",
        "colab_type": "code",
        "colab": {}
      },
      "source": [
        "#Importing Libraries\n",
        "import json\n",
        "import csv\n",
        "import tweepy\n",
        "import re"
      ],
      "execution_count": 1,
      "outputs": []
    },
    {
      "cell_type": "code",
      "metadata": {
        "id": "TyBgLmISqg8W",
        "colab_type": "code",
        "colab": {}
      },
      "source": [
        "def scrap_tweets(consumer_key, consumer_secret_key, access_token, access_token_secret, hashtags):\n",
        "    \"\"\"\n",
        "    INPUTS: \n",
        "        consumer_key: Code generated at the time of creating the app in Twitter Developer account\n",
        "        consumer_secret_key: Code generated at the time of creating the app in Twitter Developer account\n",
        "        access_token: Code generated at the time of creating the app in Twitter Developer account\n",
        "        access_token_secret: Code generated at the time of creating the app in Twitter Developer account\n",
        "        \n",
        "    OUTPUT: \n",
        "        Saving the tweets in a CSV and JSON file\n",
        "    \"\"\"\n",
        "    # Authenticate to access twitter data\n",
        "    auth = tweepy.OAuthHandler(consumer_key, consumer_secret_key)\n",
        "    auth.set_access_token(access_token, access_token_secret)\n",
        "    \n",
        "    #Initialize Tweepy API to communicate with Twitter\n",
        "    api = tweepy.API(auth)\n",
        "    \n",
        "    #Generate the CSV File to store the tweets\n",
        "    filename = '_'.join(re.findall(r\"#(\\w+)\", hashtags))\n",
        "    \n",
        "    #Open the file to make changes\n",
        "    with open('%s.csv' % (filename), 'w') as file:\n",
        "        w = csv.writer(file)\n",
        "        w.writerow(['Username','Tweets'])\n",
        "        for tweets in tweepy.Cursor(api.search, q=hashtags+' -filter:retweets', lang='en', tweet_mode='extended').items(100):\n",
        "            w.writerow([tweets.user.screen_name.encode('utf-8'),tweets.full_text.replace('\\n',' ').encode('utf-8')])\n",
        "    \n",
        "    #Create a dictionary to store data as key:value pairs\n",
        "    data={}\n",
        "    \n",
        "    #Read the generated CSV File\n",
        "    with open('%s.csv' % (filename), 'r') as csvFile:\n",
        "        csvRead = csv.DictReader(csvFile)\n",
        "        for rows in csvRead:\n",
        "            user_name = rows['Username']\n",
        "            data[user_name] = rows\n",
        "    #Store the data in the JSON file in JSON format        \n",
        "    with open('%s.json' % (filename), 'w') as jsonFile:\n",
        "        jsonFile.write(json.dumps(data,indent=4))"
      ],
      "execution_count": 2,
      "outputs": []
    },
    {
      "cell_type": "code",
      "metadata": {
        "id": "G_7-0kGhqlxC",
        "colab_type": "code",
        "colab": {}
      },
      "source": [
        "#Get the keys and tokens from the user\n",
        "consumer_key = input(\"Enter your CONSUMER KEY: \")\n",
        "consumer_secret_key = input(\"Enter your CONSUMER SECRET KEY: \")\n",
        "access_token = input(\"Enter your ACCESS TOKEN: \")\n",
        "access_token_secret = input(\"Enter your SECRET ACCESS TOKEN: \")\n",
        "\n",
        "#Get the Hashtags from the user to filter out the tweets\n",
        "hashtags = input(\"Enter your Hashtag Phrase to filter tweets: \")\n",
        "\n",
        "#Call the function to generate the CSV and JSON Files\n",
        "if __name__==\"__main__\":\n",
        "    scrap_tweets(consumer_key,consumer_secret_key, access_token, access_token_secret, hashtags)"
      ],
      "execution_count": null,
      "outputs": []
    }
  ]
}